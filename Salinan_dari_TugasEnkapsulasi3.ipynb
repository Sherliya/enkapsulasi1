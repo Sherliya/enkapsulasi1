{
  "nbformat": 4,
  "nbformat_minor": 0,
  "metadata": {
    "colab": {
      "provenance": [],
      "include_colab_link": true
    },
    "kernelspec": {
      "name": "python3",
      "display_name": "Python 3"
    },
    "language_info": {
      "name": "python"
    }
  },
  "cells": [
    {
      "cell_type": "markdown",
      "metadata": {
        "id": "view-in-github",
        "colab_type": "text"
      },
      "source": [
        "<a href=\"https://colab.research.google.com/github/Sherliya/enkapsulasi1/blob/main/Salinan_dari_TugasEnkapsulasi3.ipynb\" target=\"_parent\"><img src=\"https://colab.research.google.com/assets/colab-badge.svg\" alt=\"Open In Colab\"/></a>"
      ]
    },
    {
      "cell_type": "markdown",
      "source": [
        "Buatlah kelas RekeningBank dengan atribut berikut:\n",
        "\n",
        "*   nama_pemilik (private)\n",
        "*   saldo (private)\n",
        "\n",
        "Berikan metode berikut:\n",
        "\n",
        "*   __init__: Menginisialisasi saldo dan nama_pemilik.\n",
        "*   set_saldo: Mengubah nilai saldo.\n",
        "*   get_saldo: Mengembalikan nilai saldo.\n",
        "*   set_nama_pemilik: Mengubah nama pemilik.\n",
        "*   get_nama_pemilik: Mengembalikan nama pemilik.\n",
        "\n",
        "\n",
        "\n",
        "\n",
        "\n",
        "\n",
        "\n",
        "\n"
      ],
      "metadata": {
        "id": "PktiI90eS6Ee"
      }
    },
    {
      "cell_type": "code",
      "source": [
        "# Desain class\n",
        "class RekeningBank:\n",
        "  def __init__(self, nama_pemilik, saldo):\n",
        "    self.__nama_pemilik = nama_pemilik\n",
        "    self.__saldo = saldo\n",
        "\n",
        "  def get_nama_pemilik(self):\n",
        "    return self.__nama_pemilik\n",
        "\n",
        "  def set_nama_pemilik(self, nama_pemilik):\n",
        "    self.__nama_pemilik = nama_pemilik\n",
        "\n",
        "  def get_saldo(self):\n",
        "    return self.__saldo\n",
        "\n",
        "  def set_saldo(self, saldo):\n",
        "    self.__saldo = saldo\n",
        "\n",
        "  def setor(self, jumlah):\n",
        "    if jumlah > 0:\n",
        "      self.__saldo += jumlah\n",
        "      print('behasil.total saldo sekarang :', self.__saldo)\n",
        "    else:\n",
        "      print(\"jumlah setor harus lebih dari 0\")\n",
        "\n",
        "  def tarik(self, jumlah):\n",
        "    if jumlah > 0 and jumlah <= self.__saldo:\n",
        "      self.__saldo -= jumlah\n",
        "      print('tarik', jumlah)\n",
        "      print('berhasil. total saldo sekarang :', self.__saldo)\n",
        "    else:\n",
        "      print(\"jumlah saldo tidak mencukupi\")"
      ],
      "metadata": {
        "id": "Pyj-mkyciVfk"
      },
      "execution_count": 1,
      "outputs": []
    },
    {
      "cell_type": "code",
      "source": [
        "#Program utama untuk mendemonstrasikan class RekeningBank\n",
        "Irul= RekeningBank('Sherli',50000000)\n",
        "\n",
        "#mengembalikan nilai saldo\n",
        "print('RekeningBank:',Irul.get_nama_pemilik(), 'saldo:', Irul.get_saldo())\n",
        "\n",
        "# mengubah nilai saldo dan nama pemilik\n",
        "Irul.set_nama_pemilik('Sherli')\n",
        "Irul.set_saldo('40000000')\n",
        "\n",
        "# Mengakses/menampilkan nama_pemilik dan saldo setelah diubah\n",
        "print('RekeningBank:', Irul.get_nama_pemilik(), 'saldo:', Irul.get_saldo())"
      ],
      "metadata": {
        "id": "aOwy6rfdSga2",
        "colab": {
          "base_uri": "https://localhost:8080/"
        },
        "outputId": "da8ea52b-fb96-4472-86b9-aa038da1e657"
      },
      "execution_count": 2,
      "outputs": [
        {
          "output_type": "stream",
          "name": "stdout",
          "text": [
            "RekeningBank: Sherli saldo: 50000000\n",
            "RekeningBank: Sherli saldo: 40000000\n"
          ]
        }
      ]
    },
    {
      "cell_type": "code",
      "source": [
        "#demo program utama\n",
        "RekeningBankIrul = RekeningBank(\"Sherli\",7000000)\n",
        "\n",
        "#mengakses atau menampilkan informasi awal Rekeningbank\n",
        "print(\"informasi rekening bank sekarang:\")\n",
        "print(\"nama pemilik:\",RekeningBankIrul.get_nama_pemilik())\n",
        "print(\"saldo awal :\", RekeningBankIrul.get_saldo())\n",
        "\n",
        "#melakukan setor\n",
        "RekeningBankIrul.setor(130000) #jumlah lebih dari 0\n",
        "RekeningBankIrul.setor(0) #jumlah kurang dengan 0\n",
        "\n",
        "#melakukan tarikan saldo\n",
        "RekeningBankIrul.tarik(444000) #jumlah saldo tidak melebihi saldo pertama\n",
        "RekeningBankIrul.tarik(50000000) #jumlah saldo melebihi saldo pertama\n",
        "\n",
        "#mengakses atau menampilkan informasi akhir RekeningBankSaya\n",
        "print(\"informasi rekeningbanksaya :\")\n",
        "print(\"nama pemilik :\", RekeningBankIrul.get_nama_pemilik())\n",
        "print(\"saldo akhir :\", RekeningBankIrul.get_saldo())"
      ],
      "metadata": {
        "colab": {
          "base_uri": "https://localhost:8080/"
        },
        "id": "EvMJwudn3o5J",
        "outputId": "5711adee-5513-4164-bee3-358d54a30553"
      },
      "execution_count": 3,
      "outputs": [
        {
          "output_type": "stream",
          "name": "stdout",
          "text": [
            "informasi rekening bank sekarang:\n",
            "nama pemilik: Sherli\n",
            "saldo awal : 7000000\n",
            "behasil.total saldo sekarang : 7130000\n",
            "jumlah setor harus lebih dari 0\n",
            "tarik 444000\n",
            "berhasil. total saldo sekarang : 6686000\n",
            "jumlah saldo tidak mencukupi\n",
            "informasi rekeningbanksaya :\n",
            "nama pemilik : Sherli\n",
            "saldo akhir : 6686000\n"
          ]
        }
      ]
    }
  ]
}